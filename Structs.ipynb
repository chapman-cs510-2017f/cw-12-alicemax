{
 "cells": [
  {
   "cell_type": "markdown",
   "metadata": {
    "collapsed": false
   },
   "source": [
    "#### Explain how this code differs from the equivalent C implementation that you examined in a previous class. Be specific and detailed."
   ]
  },
  {
   "cell_type": "markdown",
   "metadata": {
    "collapsed": false
   },
   "source": [
    "This does not exist in c. In C++ types are automatically defined, but in C they must be defined explicitly. Additionally, in C++ the code is pass by reference which means that it refers directly to the memory where the code is stored and not a copy or the \"value\"."
   ]
  },
  {
   "cell_type": "markdown",
   "metadata": {
    "collapsed": false
   },
   "source": [
    "#### Explain what a #define guard does, and why it could be useful"
   ]
  },
  {
   "cell_type": "markdown",
   "metadata": {
    "collapsed": false
   },
   "source": [
    "C++ has a #define guard as a header file. This makes sure that the header is only included once by the processer and is terminated by #ifndef. This will be useful if multiple files include the .h file becuase the compiler will only run the #define once. "
   ]
  },
  {
   "cell_type": "markdown",
   "metadata": {
    "collapsed": false
   },
   "source": [
    "#### Explain what type overloading is, and why it could be useful"
   ]
  },
  {
   "cell_type": "markdown",
   "metadata": {
    "collapsed": false
   },
   "source": [
    "There is something called \"overloading\" which allows the same name to be used for different types. For example, when trying to print from the same struct... the same name can be used for the print function, but with different types (and same structs). "
   ]
  },
  {
   "cell_type": "markdown",
   "metadata": {
    "collapsed": false
   },
   "source": [
    "#### Explain the difference between \"pass by reference\" in C and \"pass by reference\" in C++."
   ]
  },
  {
   "cell_type": "markdown",
   "metadata": {
    "collapsed": false
   },
   "source": [
    "In C there is a 'pass by reference', but in reality it is a pass by pointer value. This essentially points to the memory, but doesn't alter it in any way hence the \"pointer\". In C++ you are actually passing in the objects memory address. When finished the memory will be changed and allocated in a different spot. "
   ]
  },
  {
   "cell_type": "markdown",
   "metadata": {
    "collapsed": false
   },
   "source": [
    "#### Explain what operator type overloading is, and why it could be useful"
   ]
  },
  {
   "cell_type": "markdown",
   "metadata": {
    "collapsed": false
   },
   "source": [
    "Operator overloading uses symbols and is usually linked to math based equations or formulas. In our code and in this particular case adds two separate vectors together. It first uses a pass by value and then uses a pass by reference. In the final example of vector addition the pass by reference actually changes the physical memory and allocation of the code, effectively making it run faster. "
   ]
  }
 ],
 "metadata": {
  "kernelspec": {
   "display_name": "Python 3 (Anaconda)",
   "language": "python",
   "name": "anaconda3"
  },
  "language_info": {
   "codemirror_mode": {
    "name": "ipython",
    "version": 3
   },
   "file_extension": ".py",
   "mimetype": "text/x-python",
   "name": "python",
   "nbconvert_exporter": "python",
   "pygments_lexer": "ipython3",
   "version": "3.5.4"
  }
 },
 "nbformat": 4,
 "nbformat_minor": 0
}