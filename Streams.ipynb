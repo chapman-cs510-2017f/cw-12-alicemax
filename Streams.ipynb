{
 "cells": [
  {
   "cell_type": "markdown",
   "metadata": {
    "collapsed": false
   },
   "source": [
    "## Problem 2\n",
    "\n",
    "1. The key differences from C language are:\n",
    "   \n",
    "   1.1 bigger amount of libraries\n",
    "   \n",
    "   1.2 ability to define the namespace\n",
    "   \n",
    "   1.3 more operators \n",
    "\n",
    "2. The concept of namespace is a way to group variables and functions in a local scope and avoid conflicts between the same name.\n",
    "\n",
    "3. Streams simplifies processes by automatically converting types for the user. It also allows to pump in the output of functions and chain multiple processes together. Setting the commnand line arguments is the same as in C. A stream is a popular concept for how to do input/output. Basically, a stream is a sequence of characters with functions to take characters out of one end, and put characters into the other end. In the case of input/output streams, one end of the stream is connected to a physical I/O device such as a keyboard or display. If it is a console output stream, your program puts characters into one end of the stream, and the display system takes characters out of the other and puts them on the screen. If it is a console input stream, the keyboard puts characters into one end of the stream, and your program takes characters out of the other and stores the results in variables in the program. If no characters are waiting in the input stream, your program must wait until you supply some by typing on the keyboard. File streams follow the same principle, except that the file system is attached to the other end of the stream. Command line arguments, many times they are important for your program especially when you want to control your program from outside instead of hard coding those values inside the code. The command line arguments are handled using main() function arguments where argc refers to the number of arguments passed, and argv[] is a pointer array which points to each argument passed to the program. For reading and writing to a text file, we use the functions fprintf() and fscanf(). They are just the file versions of printf() and scanf(). The only difference is that, fprint and fscanf expects a pointer to the structure FILE. Standard error is un-buffered which means it prints out almost immediately. Other output streams are buffered unless you're using low-level OS calls, which means they will take longer to print unless you do a buffer flush with something like an endl, ::flush, or whatever else. When you are printing a tab character to the standard output using printf in C, it outputs some space which is apparently 4 characters in length.\n",
    "\n",
    "4. Strings in C++ are much safer and easier to use. They tracks the lenght of the array and allocate the memory automatically, you don't need to create them. They also allow us to stay focused more on the variables.\n"
   ]
  },
  {
   "cell_type": "code",
   "execution_count": 0,
   "metadata": {
    "collapsed": false
   },
   "outputs": [
   ],
   "source": [
   ]
  }
 ],
 "metadata": {
  "kernelspec": {
   "display_name": "Python 3 (Anaconda)",
   "language": "python",
   "name": "anaconda3"
  },
  "language_info": {
   "codemirror_mode": {
    "name": "ipython",
    "version": 3
   },
   "file_extension": ".py",
   "mimetype": "text/x-python",
   "name": "python",
   "nbconvert_exporter": "python",
   "pygments_lexer": "ipython3",
   "version": "3.5.4"
  }
 },
 "nbformat": 4,
 "nbformat_minor": 0
}