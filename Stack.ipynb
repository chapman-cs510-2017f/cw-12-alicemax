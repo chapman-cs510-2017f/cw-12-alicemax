{
 "cells": [
  {
   "cell_type": "markdown",
   "metadata": {
    "collapsed": false
   },
   "source": [
    "Examine the source code in src/stack carefully.\n",
    "In a Jupyter notebook Stack.ipynb, describe how the Stack type is defined and how it works in detail. Explain in particular the differences between this implementation and the C implementation that you have already coded.\n",
    "<p>\n",
    "<b> Explain the difference between a class and a struct </b>\n",
    "<li>A class and struct are basically the same thing, except that the default visibility of object members are private instead of public for a struct. Classes also allow functions to be defined as a method, and are automatically typedef'd in C++. \n",
    "\n",
    "Explain what private and public do\n",
    "<li>Private protects internal variables from being changed by functions outside the class, which is useful for preventing accidental modifications to the class by an outside class.\n",
    "    \n",
    "Explain what size_t is used for\n",
    "<li> size_t is used to return the depth value of the stack as a constant\n",
    "    \n",
    "Explain why this code avoids the use of C pointers\n",
    "Explain what new and delete do in C++, and how they relate to what you have done in C\n",
    "Explain what a memory leak is, and what you should do to avoid it\n",
    "Explain what a unique_ptr is and how it relates to both new and C pointers\n",
    "Explain what a list initializer does\n",
    "Explain what the \"Rule of Zero\" is, and how it relates to the \"Rule of Three\"\n",
    "Finish implementing the missing functions in a sensible way. Be sure to fix the bug so that the depth field is used properly.\n",
    "Make sure that test_struct in the test/ folder compiles and runs correctly after you are finished implementing Struct.\n",
    "Use valgrind to verify that you have no memory leaks in your working program. (You will have to edit the primary Makefile to change the CXXFLAGS to enable -g for debugging.)\n",
    "Fix the code so that it throws an exception properly if one tries to pop an empty stack.\n",
    "Fix the code so that depth cannot increase beyond the numerical limit for size_t. Create a new method bool full() that checks if your Stack is full. Throw an exception properly if you try to push an item onto a full stack."
   ]
  },
  {
   "cell_type": "code",
   "execution_count": 0,
   "metadata": {
    "collapsed": false
   },
   "outputs": [
   ],
   "source": [
   ]
  }
 ],
 "metadata": {
  "kernelspec": {
   "display_name": "Bash (Linux)",
   "language": "bash",
   "name": "bash"
  },
  "language_info": {
   "codemirror_mode": "shell",
   "file_extension": ".sh",
   "mimetype": "text/x-sh",
   "name": "bash"
  }
 },
 "nbformat": 4,
 "nbformat_minor": 0
}